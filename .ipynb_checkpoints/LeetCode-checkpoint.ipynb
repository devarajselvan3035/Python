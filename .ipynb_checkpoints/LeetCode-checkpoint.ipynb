{
 "cells": [
  {
   "cell_type": "markdown",
   "id": "d154ac72-27c0-4b61-8327-da9474a0a101",
   "metadata": {},
   "source": [
    "## Roman to Integer\n",
    "Roman numerals are represented by seven different symbols:I, V, X, L, C, D and M.\\\n",
    "**Examples**\\\n",
    "Inputs: \"MCMXCIV\"\\\n",
    "Outputs: 1994\\\n",
    "Explanation: M = 1000, CM = 900, XC = 90 and IV = 4."
   ]
  },
  {
   "cell_type": "code",
   "execution_count": 10,
   "id": "d8b0da6b-189d-4f94-bd79-7eb5812c0626",
   "metadata": {},
   "outputs": [
    {
     "name": "stdout",
     "output_type": "stream",
     "text": [
      "1991\n"
     ]
    }
   ],
   "source": [
    "roman_dict = {'I':1, 'V':5, 'X':10, 'L':50, 'C':100, 'D':500, 'M':1000}\n",
    "Inputs = \"MCMXCI\"\n",
    "def find_roman(roman):\n",
    "    ans = 0\n",
    "    for i in range(len(roman)-1):\n",
    "        if roman_dict[roman[i]] < roman_dict[roman[i+1]]:\n",
    "           ans -= roman_dict[roman[i]] \n",
    "        else:\n",
    "            ans += roman_dict[roman[i]]\n",
    "    return ans + roman_dict[roman[-1]]\n",
    "print(find_roman(Inputs))"
   ]
  },
  {
   "cell_type": "code",
   "execution_count": null,
   "id": "54676027-294a-4fa2-aa8e-fea1dee4c0de",
   "metadata": {},
   "outputs": [],
   "source": []
  }
 ],
 "metadata": {
  "kernelspec": {
   "display_name": "Python 3 (ipykernel)",
   "language": "python",
   "name": "python3"
  },
  "language_info": {
   "codemirror_mode": {
    "name": "ipython",
    "version": 3
   },
   "file_extension": ".py",
   "mimetype": "text/x-python",
   "name": "python",
   "nbconvert_exporter": "python",
   "pygments_lexer": "ipython3",
   "version": "3.12.3"
  }
 },
 "nbformat": 4,
 "nbformat_minor": 5
}
