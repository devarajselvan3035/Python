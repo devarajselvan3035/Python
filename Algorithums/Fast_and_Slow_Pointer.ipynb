{
 "cells": [
  {
   "cell_type": "code",
   "execution_count": 2,
   "id": "c5d103bb",
   "metadata": {},
   "outputs": [],
   "source": [
    "class Node:\n",
    "    def __init__(self, data) -> None:\n",
    "        self.data = data\n",
    "        self.next = None\n",
    "        \n",
    "class LinkedList:\n",
    "    def __init__(self, *vals):\n",
    "        self.head = None\n",
    "        self.tail = None\n",
    "        self.length = 0\n",
    "        \n",
    "        for v in vals:\n",
    "            self.append(v)\n",
    "        \n",
    "    def append(self, data) -> None:\n",
    "        newNode = Node(data)\n",
    "        if not self.head:\n",
    "            self.head = newNode\n",
    "            self.tail = newNode\n",
    "        else:\n",
    "            self.tail.next = newNode\n",
    "            self.tail = newNode\n",
    "            \n",
    "    def show(self, *head) -> None:\n",
    "        curdNode = head[0] if head else self.head\n",
    "        while curdNode:\n",
    "            print(curdNode.data)\n",
    "            curdNode = curdNode.next"
   ]
  },
  {
   "attachments": {
    "image.png": {
     "image/png": "[encoded data removed]"
    }
   },
   "cell_type": "markdown",
   "id": "cd2ea04e",
   "metadata": {},
   "source": [
    "## Linked List Loop\n",
    "Given a singly linked list, determine if it contains a cycle. a cycle occurs if a node's next pointer references an earlier node in the list, causing a loop\n",
    "![image.png](attachment:image.png)\n",
    "\n",
    "Output: True"
   ]
  },
  {
   "cell_type": "code",
   "execution_count": 3,
   "id": "7cb4e141",
   "metadata": {},
   "outputs": [],
   "source": [
    "def linked_list_loop(head:Node) -> bool:\n",
    "    slow = head\n",
    "    fast = head.next\n",
    "    while fast and fast.next:\n",
    "        if slow == fast:\n",
    "            return True\n",
    "        slow = slow.next\n",
    "        fast = fast.next.next\n",
    "    return False"
   ]
  },
  {
   "cell_type": "markdown",
   "id": "91c95516",
   "metadata": {},
   "source": [
    "## Linked List Midpoint\n",
    "Given a singly linked list, find and return its middle node. if  there are tow middle nodes return the second one.\n",
    "\n",
    "**Examples**\\\n",
    "Input: 1 > 2 > 4 > 7 > 3\\\n",
    "Output: 4\n",
    "\n",
    "Inputs: 1 > 2 > 4 > 7\\\n",
    "Output: 4\n"
   ]
  },
  {
   "cell_type": "code",
   "execution_count": 9,
   "id": "450ddd58",
   "metadata": {},
   "outputs": [
    {
     "name": "stdout",
     "output_type": "stream",
     "text": [
      "4 <__main__.Node object at 0x7a8b0bbe3a10>\n",
      "None\n"
     ]
    }
   ],
   "source": [
    "arr = LinkedList(1,2,4,7,3)\n",
    "def linked_list_midpoint(head:Node):\n",
    "    slow = head\n",
    "    fast = head\n",
    "    while fast and fast.next:\n",
    "        slow = slow.next\n",
    "        fast = fast.next.next\n",
    "    print(slow.data, fast)\n",
    "print(linked_list_midpoint(arr.head))"
   ]
  },
  {
   "cell_type": "markdown",
   "id": "5bcc1a94",
   "metadata": {},
   "source": [
    "## Happy Number\n",
    "In number theory, a happy number is defined as a number that, when repeatedly subjected to the process of squaring its digits and summing those squares, eventually leads to 1[1]. An unhappy number will never reach 1 during this process, and will get stuck in an infinite loop.\n",
    "\n",
    "**Examples:**\\\n",
    "Input: n=23\\\n",
    "Output: True\\\n",
    "Explanation $2^2+3^2=13 => 1^2+3^2=10 => 1^2+0^2=1$"
   ]
  },
  {
   "cell_type": "code",
   "execution_count": 16,
   "id": "728fadb9",
   "metadata": {},
   "outputs": [
    {
     "name": "stdout",
     "output_type": "stream",
     "text": [
      "False\n"
     ]
    }
   ],
   "source": [
    "def happy_number(num:int) -> bool:\n",
    "    cycle = set()\n",
    "    def digit_sum(val:int) -> int:\n",
    "        sum = 0\n",
    "        while val >= 1:\n",
    "            rem = val % 10\n",
    "            sum += (rem*rem)\n",
    "            val = val // 10\n",
    "        return sum\n",
    "    while True:\n",
    "        if digit_sum(num) == 1:\n",
    "            return True\n",
    "        elif digit_sum(num) in cycle:\n",
    "            return False\n",
    "        cycle.add(digit_sum(num))\n",
    "        num = digit_sum(num)\n",
    "print(happy_number(116))\n",
    "    \n",
    "        "
   ]
  },
  {
   "cell_type": "code",
   "execution_count": 14,
   "id": "5e60f1c0",
   "metadata": {},
   "outputs": [
    {
     "name": "stdout",
     "output_type": "stream",
     "text": [
      "2\n"
     ]
    }
   ],
   "source": [
    "num = 11\n",
    "sum = 0\n",
    "while num >= 1:\n",
    "    val = num % 10\n",
    "    sum += (val*val)\n",
    "    num = num // 10\n",
    "print(sum)"
   ]
  },
  {
   "cell_type": "markdown",
   "id": "5a1c4f99",
   "metadata": {},
   "source": []
  }
 ],
 "metadata": {
  "kernelspec": {
   "display_name": ".venv",
   "language": "python",
   "name": "python3"
  },
  "language_info": {
   "codemirror_mode": {
    "name": "ipython",
    "version": 3
   },
   "file_extension": ".py",
   "mimetype": "text/x-python",
   "name": "python",
   "nbconvert_exporter": "python",
   "pygments_lexer": "ipython3",
   "version": "3.12.3"
  }
 },
 "nbformat": 4,
 "nbformat_minor": 5
}
