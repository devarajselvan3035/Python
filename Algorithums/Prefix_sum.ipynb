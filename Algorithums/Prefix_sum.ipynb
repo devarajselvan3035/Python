{
 "cells": [
  {
   "cell_type": "markdown",
   "id": "10559042-dd46-412f-a4d6-528ba156828e",
   "metadata": {},
   "source": [
    "## Sum between range\n",
    "Given an integer array, write a function returns the sum of values between two indexes.\\\n",
    "**Examples**\\\n",
    "Input: nums = [3, -7, 6, 0, -2, 5], range = [0, 3]\\\n",
    "Output: 2"
   ]
  },
  {
   "cell_type": "code",
   "execution_count": 7,
   "id": "b4f851c2-d907-4bfe-bb38-96d2061f801f",
   "metadata": {},
   "outputs": [
    {
     "name": "stdout",
     "output_type": "stream",
     "text": [
      "2\n",
      "4\n",
      "6\n"
     ]
    }
   ],
   "source": [
    "nums = [3, -7, 6, 0, -2, 5]\n",
    "def sum_range(start, end) -> int:\n",
    "    total = 0\n",
    "    for i in nums[start:end+1]:   \n",
    "        total += i\n",
    "    return total\n",
    "print(sum_range(0, 3))\n",
    "print(sum_range(2, 4))\n",
    "print(sum_range(2, 2))"
   ]
  },
  {
   "cell_type": "markdown",
   "id": "9fbd766d-82f2-4a86-bd34-6fda9d115ad1",
   "metadata": {},
   "source": [
    "## k-sum subarrays\n",
    "Find the number of subarrays in an integer array that sum to k.\\\n",
    "**Examples**\\\n",
    "Inputs: nums = [1,2,-1,1,2]\\\n",
    "Output:3"
   ]
  },
  {
   "cell_type": "code",
   "execution_count": 18,
   "id": "c2cd631d-e014-4710-a762-98befb4d1f9b",
   "metadata": {},
   "outputs": [
    {
     "name": "stdout",
     "output_type": "stream",
     "text": [
      "2 5 0\n"
     ]
    }
   ],
   "source": [
    "nums = [1, 2, -1, 1, 2]\n",
    "k = 3\n",
    "ans = 0\n",
    "add = 0\n",
    "l, r = 0, 0\n",
    "while r < len(nums) and l < len(nums):\n",
    "    add += nums[r]\n",
    "    if add == k:\n",
    "        ans += 1\n",
    "        r + 1\n",
    "    elif add < k:\n",
    "        r + 1\n",
    "    else:\n",
    "        add -= nums[l]\n",
    "        l += 1\n",
    "print(ans, l, r)"
   ]
  },
  {
   "cell_type": "code",
   "execution_count": null,
   "id": "954174d3-08b0-4b77-a8e8-22605a21c58b",
   "metadata": {},
   "outputs": [],
   "source": []
  }
 ],
 "metadata": {
  "kernelspec": {
   "display_name": "Python 3 (ipykernel)",
   "language": "python",
   "name": "python3"
  },
  "language_info": {
   "codemirror_mode": {
    "name": "ipython",
    "version": 3
   },
   "file_extension": ".py",
   "mimetype": "text/x-python",
   "name": "python",
   "nbconvert_exporter": "python",
   "pygments_lexer": "ipython3",
   "version": "3.12.3"
  }
 },
 "nbformat": 4,
 "nbformat_minor": 5
}
