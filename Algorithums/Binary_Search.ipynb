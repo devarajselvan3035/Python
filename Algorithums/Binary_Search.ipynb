{
 "cells": [
  {
   "cell_type": "markdown",
   "id": "289f7bef",
   "metadata": {},
   "source": [
    "## Find the insertion index\n",
    "You are given a sorted array that contains unique values, along with an integer target.\n",
    "- In the array contains the target value, return its index\n",
    "- Otherwise, return the insertion index, This is the index where the target would be if it were inserted in order, maintaining the sorted sequence of the array.\n",
    "\n",
    "**Example**\\\n",
    "Input: nums = [1,2,4,5,7,8,9], target = 4\n",
    "Output: 2\n",
    "\n",
    "Input: nums = [1,2,4,5,7,8,9], target = 6\n",
    "Output: 4\n",
    "\n",
    "*Explanation*: 6 would be inserted at index 4 to be positioned between 5 and 7: [1,2,4,5,6,7,8,9]\n",
    "> **Book* - Coding interview pattern => page no 105"
   ]
  },
  {
   "cell_type": "code",
   "execution_count": null,
   "id": "fba2686f",
   "metadata": {},
   "outputs": [],
   "source": [
    "from typing import List\n",
    "\n",
    "arr = [1,2,4,5,7,8,9]\n",
    "target = 6\n",
    "\n",
    "## With normal way\n",
    "def linear_search(arr:List[int], t:int) -> int:\n",
    "    for i in range(len(arr)):\n",
    "        if arr[i] == t:\n",
    "            return i\n",
    "        elif arr[i] > t:\n",
    "            return i\n",
    "            break\n",
    "print(linear_search(arr, target))\n",
    "\n",
    "## With Binary search\n",
    "def Binary_search(arr: List[int], t:int) -> int:\n",
    "    l,r = 0, len(arr)\n",
    "    while l < r:\n",
    "        mid = (l+r) // 2\n",
    "        if arr[mid] >= t:\n",
    "            r = mid\n",
    "        else:\n",
    "            l = mid-1\n",
    "    return l\n",
    "print(Binary_search(arr, target))"
   ]
  },
  {
   "cell_type": "markdown",
   "id": "4495dfdf",
   "metadata": {},
   "source": [
    "## First ans Last Occurrences of a Number\n",
    "Given an array of integers sorted in non-decreasing order, return the first and last indexes of a target number if the target is not found, return [-1, -1]\n",
    "\n",
    "**Examples**\\\n",
    "inputs: nums = [1,2,3,4,4,4,5,6,7,8,9,10,11], target=4\\\n",
    "Output: [3, 5|]"
   ]
  },
  {
   "cell_type": "code",
   "execution_count": 8,
   "id": "438e988a",
   "metadata": {},
   "outputs": [
    {
     "name": "stdout",
     "output_type": "stream",
     "text": [
      "13\n"
     ]
    }
   ],
   "source": [
    "nums = [1,2,3,4,4,4,5,6,7,8,9,10,11]\n",
    "target = 4\n",
    "print(len(nums))"
   ]
  },
  {
   "cell_type": "code",
   "execution_count": null,
   "id": "5868b285",
   "metadata": {},
   "outputs": [],
   "source": []
  }
 ],
 "metadata": {
  "kernelspec": {
   "display_name": ".venv",
   "language": "python",
   "name": "python3"
  },
  "language_info": {
   "codemirror_mode": {
    "name": "ipython",
    "version": 3
   },
   "file_extension": ".py",
   "mimetype": "text/x-python",
   "name": "python",
   "nbconvert_exporter": "python",
   "pygments_lexer": "ipython3",
   "version": "3.12.3"
  }
 },
 "nbformat": 4,
 "nbformat_minor": 5
}
