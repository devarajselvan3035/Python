{
 "cells": [
  {
   "cell_type": "markdown",
   "id": "05cad0b3",
   "metadata": {},
   "source": [
    "## Basic creation for linked list"
   ]
  },
  {
   "cell_type": "code",
   "execution_count": 5,
   "id": "c4dce0e3",
   "metadata": {},
   "outputs": [
    {
     "name": "stdout",
     "output_type": "stream",
     "text": [
      "1,2,3,4,5,"
     ]
    }
   ],
   "source": [
    "## Create Node\n",
    "class Node:\n",
    "    def __init__(self, data):\n",
    "        self.data = data\n",
    "        self.next = None\n",
    "        \n",
    "class LinkedList:\n",
    "    \n",
    "    def __init__(self, *vals):\n",
    "        self.head = None\n",
    "        self.tail = None\n",
    "        self.length = 0\n",
    "        \n",
    "        for v in vals:\n",
    "            self.append(v)\n",
    "        \n",
    "    def append(self, data) -> None:\n",
    "        newNode = Node(data)\n",
    "        if self.head is None:\n",
    "            self.head = newNode\n",
    "            self.tail = newNode\n",
    "        else:\n",
    "            self.tail.next = newNode\n",
    "            self.tail = newNode\n",
    "        self.length += 1\n",
    "            \n",
    "    def show(self, *head)-> None:\n",
    "        curNode = head[0] if head else self.head\n",
    "        while curNode is not None:\n",
    "            print(curNode.data, end=',')\n",
    "            curNode = curNode.next\n",
    "            \n",
    "arr = LinkedList(1,2,3,4,5)\n",
    "arr.show()"
   ]
  },
  {
   "cell_type": "markdown",
   "id": "df0ebce8",
   "metadata": {},
   "source": [
    "## Linked List Reversal\n",
    "Reverse a singly linked list\n",
    "\n",
    "**Example**\\\n",
    "Input: 1 -> 2 -> 4 -> 7 -> 3\\\n",
    "Output: 3 -> 7 -> 4 -> 2 -> 1"
   ]
  },
  {
   "cell_type": "code",
   "execution_count": 14,
   "id": "19ed752a",
   "metadata": {},
   "outputs": [],
   "source": [
    "arr = LinkedList(1,2,4,7,3)\n",
    "head = arr.head\n",
    "tail = arr.tail\n",
    "temp = None\n",
    "\n",
    "curNode = head\n",
    "while curNode is not None:\n",
    "    nextNode = curNode.next\n",
    "    curNode.next = temp\n",
    "    head = curNode\n",
    "    temp = curNode\n",
    "    curNode = nextNode\n",
    "    \n",
    "def ll_reverse(head:Node, prevNode=None) -> Node:\n",
    "    if head is not None and head.next is not None:\n",
    "        ll_reverse(head.next)\n",
    "    curNode = head\n",
    "    nextNode = curNode.next\n",
    "    \n",
    "\n",
    "    \n",
    "    \n",
    "    "
   ]
  },
  {
   "cell_type": "markdown",
   "id": "403ce219",
   "metadata": {},
   "source": [
    "## Remove node from linked list\n",
    "Remove the kth last node from a linked list. Return the head of a singly linked list after removing the kth node from the end of it.\n",
    "\n",
    "**Examples**\\\n",
    "1 -> 2 -> 4 -> 7 -> 3\\\n",
    "k = 2\\\n",
    "1 -> 2 -> 4 -> 3"
   ]
  },
  {
   "cell_type": "code",
   "execution_count": 15,
   "id": "7adc8766",
   "metadata": {},
   "outputs": [
    {
     "ename": "AttributeError",
     "evalue": "'NoneType' object has no attribute 'next'",
     "output_type": "error",
     "traceback": [
      "\u001b[31m---------------------------------------------------------------------------\u001b[39m",
      "\u001b[31mAttributeError\u001b[39m                            Traceback (most recent call last)",
      "\u001b[36mCell\u001b[39m\u001b[36m \u001b[39m\u001b[32mIn[15]\u001b[39m\u001b[32m, line 17\u001b[39m\n\u001b[32m     15\u001b[39m     r.next = r.next.next\n\u001b[32m     16\u001b[39m     \u001b[38;5;28;01mreturn\u001b[39;00m head\n\u001b[32m---> \u001b[39m\u001b[32m17\u001b[39m op = \u001b[43mremoveElement\u001b[49m\u001b[43m(\u001b[49m\u001b[43marr\u001b[49m\u001b[43m.\u001b[49m\u001b[43mhead\u001b[49m\u001b[43m,\u001b[49m\u001b[43m \u001b[49m\u001b[43mk\u001b[49m\u001b[43m=\u001b[49m\u001b[32;43m2\u001b[39;49m\u001b[43m)\u001b[49m\n\u001b[32m     18\u001b[39m arr.show(op)\n",
      "\u001b[36mCell\u001b[39m\u001b[36m \u001b[39m\u001b[32mIn[15]\u001b[39m\u001b[32m, line 15\u001b[39m, in \u001b[36mremoveElement\u001b[39m\u001b[34m(head, k)\u001b[39m\n\u001b[32m     12\u001b[39m     l = l.next\n\u001b[32m     13\u001b[39m     r = r.next\n\u001b[32m---> \u001b[39m\u001b[32m15\u001b[39m r.next = \u001b[43mr\u001b[49m\u001b[43m.\u001b[49m\u001b[43mnext\u001b[49m\u001b[43m.\u001b[49m\u001b[43mnext\u001b[49m\n\u001b[32m     16\u001b[39m \u001b[38;5;28;01mreturn\u001b[39;00m head\n",
      "\u001b[31mAttributeError\u001b[39m: 'NoneType' object has no attribute 'next'"
     ]
    }
   ],
   "source": [
    "arr = LinkedList(1,2,4,7,3)\n",
    "k = 5\n",
    "\n",
    "def removeElement(head, k):\n",
    "    l = r = head\n",
    "    for _ in range(k-1):\n",
    "        l = l.next\n",
    "        if not l:\n",
    "            return head\n",
    "        \n",
    "    while l is not None:\n",
    "        l = l.next\n",
    "        r = r.next\n",
    "        \n",
    "    r.next = r.next.next\n",
    "    return head\n",
    "op = removeElement(arr.head, k=2)\n",
    "arr.show(op)\n",
    "        \n",
    "        "
   ]
  },
  {
   "cell_type": "markdown",
   "id": "c21956f8",
   "metadata": {},
   "source": []
  }
 ],
 "metadata": {
  "kernelspec": {
   "display_name": ".venv",
   "language": "python",
   "name": "python3"
  },
  "language_info": {
   "codemirror_mode": {
    "name": "ipython",
    "version": 3
   },
   "file_extension": ".py",
   "mimetype": "text/x-python",
   "name": "python",
   "nbconvert_exporter": "python",
   "pygments_lexer": "ipython3",
   "version": "3.12.3"
  }
 },
 "nbformat": 4,
 "nbformat_minor": 5
}
