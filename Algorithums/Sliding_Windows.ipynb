{
 "cells": [
  {
   "cell_type": "markdown",
   "id": "664056d9",
   "metadata": {},
   "source": [
    "## Substring Anagrams\n",
    "Given two strings, s and t, both consisting of lowercase English letters, return the number of substrings in that are anagrams of t.\n",
    "\n",
    "**Examples**\n",
    "Input: s = 'caabab', t = 'aba'\\\n",
    "output: 2\\\n",
    "Explanation: There is an anagram of t starting at index 1 (\"caabab\") and another starting at index 2(\"caabab\")\n",
    "\n",
    "**Remember**: That is an anagram, the order of the letters doesn't matter, only the *frequency of each letters* does.\n",
    ">**Book** Coding interview pattern - page no *86*\n"
   ]
  },
  {
   "cell_type": "code",
   "execution_count": 13,
   "id": "6d784091",
   "metadata": {},
   "outputs": [
    {
     "name": "stdout",
     "output_type": "stream",
     "text": [
      "cba\n",
      "bac\n",
      "2\n"
     ]
    }
   ],
   "source": [
    "from typing import Dict\n",
    "s = \"cbaebabacd\"\n",
    "t = \"abc\"\n",
    "\n",
    "def str_frequency(string:str) -> Dict[str, int]:\n",
    "    strDict = {}\n",
    "    for s in string:\n",
    "        if s not in strDict:\n",
    "            strDict[s] = 1\n",
    "        else:\n",
    "            strDict[s] += 1\n",
    "    return strDict\n",
    "\n",
    "def str_anagrams(s, t) -> int: \n",
    "    l, r, ans = 0, 0+len(t), 0\n",
    "    while r < len(s):\n",
    "        if str_frequency(s[l:r]) == str_frequency(t):\n",
    "            print(s[l:r])\n",
    "            ans += 1\n",
    "        l += 1\n",
    "        r += 1\n",
    "    return ans\n",
    "\n",
    "print(str_anagrams(s, t))\n",
    "        \n"
   ]
  },
  {
   "cell_type": "markdown",
   "id": "4d028cb0",
   "metadata": {},
   "source": [
    "## Longest Substring With Unique Characters\n",
    "Given a string determine the length of its longest substring that consists only of unique characters.\n",
    "\n",
    "**Example:**\\\n",
    "Input: s = 'abcba'\n",
    "OutputL 3\n",
    "\n",
    "*Explanation:* Substring 'abc' is the longest substring of length 3 that contains unique characters ('cba' also fits the description)."
   ]
  },
  {
   "cell_type": "code",
   "execution_count": 16,
   "id": "c0084711",
   "metadata": {},
   "outputs": [
    {
     "name": "stdout",
     "output_type": "stream",
     "text": [
      "3\n"
     ]
    }
   ],
   "source": [
    "s = 'abcba'\n",
    "def substring_uniqueChar(s:str) -> int:\n",
    "    l = r = maxVal = 0\n",
    "    while r < len(s):\n",
    "        if s[r] not in s[l:r]:\n",
    "            r += 1\n",
    "        else:\n",
    "            l += 1\n",
    "        maxVal = max(maxVal, len(s[l:r]))\n",
    "    return maxVal\n",
    "\n",
    "print(substring_uniqueChar(s))"
   ]
  },
  {
   "cell_type": "markdown",
   "id": "67dc1bf9",
   "metadata": {},
   "source": [
    "## Longest Uniform Substring After Replacement\n",
    "A uniform substring is one in which all characters are identical. Given a string determine the length of the longest uniform substring that can be formed by replacing up to k characters.\n",
    "\n",
    "**Examples:**\n",
    "Input: s = 'aabcdcca', k=2\n",
    "Output: 5\n",
    "\n",
    "*Explanation*: if we can only replace 2 characters, the longest uniform substring we can achiever is \"ccccc\", obtained by replacing b and d with c."
   ]
  },
  {
   "cell_type": "code",
   "execution_count": 3,
   "id": "27824b2d",
   "metadata": {},
   "outputs": [
    {
     "name": "stdout",
     "output_type": "stream",
     "text": [
      "5\n"
     ]
    }
   ],
   "source": [
    "s = 'aabcdcca'\n",
    "k = 2\n",
    "\n",
    "def uniform_substring(s:str, k:int) -> int:\n",
    "    l = r = 0\n",
    "    freq = {}\n",
    "    highFreq = maxLen = 0\n",
    "    while r < len(s):\n",
    "        freq[s[r]] = freq.get(s[r], 0) + 1\n",
    "        highFreq = max(highFreq, freq[s[r]])\n",
    "        numCharReplace = (r-l+1) - highFreq\n",
    "        if numCharReplace > k:\n",
    "            freq[s[l]] -= 1\n",
    "            l += 1\n",
    "        maxLen = max(maxLen, r-l+1)\n",
    "        r += 1\n",
    "    return maxLen\n",
    "\n",
    "print(uniform_substring(s, k))\n",
    "    \n",
    "            "
   ]
  },
  {
   "cell_type": "code",
   "execution_count": null,
   "id": "33ce4d70",
   "metadata": {},
   "outputs": [],
   "source": []
  }
 ],
 "metadata": {
  "kernelspec": {
   "display_name": ".venv",
   "language": "python",
   "name": "python3"
  },
  "language_info": {
   "codemirror_mode": {
    "name": "ipython",
    "version": 3
   },
   "file_extension": ".py",
   "mimetype": "text/x-python",
   "name": "python",
   "nbconvert_exporter": "python",
   "pygments_lexer": "ipython3",
   "version": "3.12.3"
  }
 },
 "nbformat": 4,
 "nbformat_minor": 5
}
