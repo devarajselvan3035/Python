{
 "cells": [
  {
   "cell_type": "markdown",
   "id": "9af343cd",
   "metadata": {},
   "source": [
    "## Pair Sum - Sorted\n",
    "Given an array of integers sorted in ascending order and a target value, return the indexes of any pair of numbers in the array that sum to the target. The order of the indexes in the result doesn't matter. If no pair is found, return an empty array.\n",
    "\n",
    "**Example 1**\\\n",
    "Input: nums = [-5, -2, 3, 4, 6], target = 7\\\n",
    "Output: [2, 3]\\\n",
    "Explanation: num[2] + num[3] = 3 + 4 = 7"
   ]
  },
  {
   "cell_type": "code",
   "execution_count": 3,
   "id": "3fe98168",
   "metadata": {},
   "outputs": [
    {
     "name": "stdout",
     "output_type": "stream",
     "text": [
      "[0, 3]\n"
     ]
    }
   ],
   "source": [
    "from typing import List\n",
    "\n",
    "# nums = [-5, -2, 3,4,6]\n",
    "# target = 7\n",
    "nums = [1,2,3,4]\n",
    "target = 5\n",
    "\n",
    "def pair_sum(arr:List[int], target:int) -> List[int]:\n",
    "    l, r = 0, len(arr)-1\n",
    "    while l < r:\n",
    "        if arr[l] + arr[r] == target:\n",
    "            return [l, r]\n",
    "        elif arr[l] + arr[r] < target:\n",
    "            l += 1\n",
    "        else:\n",
    "            r -= 1\n",
    "    return []\n",
    "print(pair_sum(nums, target))"
   ]
  },
  {
   "cell_type": "markdown",
   "id": "3a2440f5",
   "metadata": {},
   "source": [
    "## Triplet Sum\n",
    "\n",
    "Given an array of integers, return all triplets [a,b,c] such that a+b+c = 0. The solution must not contain duplicate triplets (eg. [1,2,3] and [2,3,1] are considered duplicate triplets). If no such triplets are found. return an empty array\n",
    "\n",
    "Each triplet can be arranged in any order, and the output can be returned in any order.\n",
    "\n",
    "**Example:**\\\n",
    "Input: nums = [0, -1, 2, -3, 1]\\\n",
    "Output: [[-3, 1, 2], [-1, 0, 1]]\n",
    ">Solution detail explained in => **Coding interview pattern - 14 page**\n",
    "\n"
   ]
  },
  {
   "cell_type": "code",
   "execution_count": 2,
   "id": "823bd90d",
   "metadata": {},
   "outputs": [
    {
     "name": "stdout",
     "output_type": "stream",
     "text": [
      "0 4 0\n",
      "0 4 1\n",
      "0 4 2\n",
      "0 4 3\n",
      "0 4 4\n",
      "[[-3, 1, 2], [-1, 0, 1]]\n"
     ]
    }
   ],
   "source": [
    "from Sorting_Algorithums.Merge_sort import merge_sort\n",
    "from typing import List\n",
    "\n",
    "nums = [0, -1, 2, -3, 1]\n",
    "merge_sort(nums)\n",
    "\n",
    "def triplet_sum(arr: List[int]) -> List[List]:\n",
    "    temp_ans = []\n",
    "    for i in range(len(arr)):\n",
    "        l, r = 0, len(arr)-1\n",
    "        print(l, r, i)\n",
    "        while l < r:\n",
    "            if arr[l]+arr[r]+arr[i] == 0 and l!=i and r!=i:\n",
    "                value_list = list([arr[l], arr[r], arr[i]])\n",
    "                value_list = sorted(value_list)\n",
    "                if value_list not in temp_ans:\n",
    "                    temp_ans.append(value_list)\n",
    "                l += 1\n",
    "                r -= 1\n",
    "            elif arr[l]+arr[r] < (-1*arr[i]):\n",
    "                l += 1\n",
    "            else:\n",
    "                r -= 1\n",
    "    return temp_ans\n",
    "print(triplet_sum(nums))"
   ]
  },
  {
   "cell_type": "markdown",
   "id": "627f4002",
   "metadata": {},
   "source": [
    "## Is Palindrome Valid\n",
    "\n",
    "a palindrome is a sequence of characters that reads the same forward and backward.\n",
    "\n",
    "Given a string, determine if it's a palindrome after removing all non-alphanumeric character. A character is alphanumeric if it's either letter or a number\n",
    "\n",
    "**Example**\\\n",
    "Input: s = 'a dog! a panic in a pagoda'\\\n",
    "Output: True"
   ]
  },
  {
   "cell_type": "code",
   "execution_count": 18,
   "id": "9181dad3",
   "metadata": {},
   "outputs": [
    {
     "name": "stdout",
     "output_type": "stream",
     "text": [
      "True\n"
     ]
    }
   ],
   "source": [
    "s = \"!,(?)\"\n",
    "\n",
    "def check_palindrome(s: str) -> bool:\n",
    "    l, r = 0, len(s)-1\n",
    "    while l < r:\n",
    "        if not s[l].isalnum() or s[l] == ' ':\n",
    "            l += 1\n",
    "        elif not s[r].isalnum() or s[r] == ' ':\n",
    "            r -= 1\n",
    "        elif s[l] != s[r]:\n",
    "            print(s[l], s[r])\n",
    "            return False\n",
    "        else:\n",
    "            l += 1\n",
    "            r -= 1\n",
    "    return True\n",
    "print(check_palindrome(s))"
   ]
  },
  {
   "cell_type": "markdown",
   "id": "9f4a9f30",
   "metadata": {},
   "source": [
    "## Largest Container\n",
    "\n",
    "You are given an array of numbers, each representing the height of a vertical line on a graph. A container can be formed with any pair of these lines, along with the x-axis of the graph. Return the amount of water which the largest container can hold.\n",
    "> Largest container have image link in mentioned below\n",
    "[Image Link](https://s3-lc-upload.s3.amazonaws.com/uploads/2018/07/17/question_11.jpg)\n",
    "\n",
    "**Example**\\\n",
    "Input: heights = [2,7,8,3,7,6]\\\n",
    "Output: 24\n"
   ]
  },
  {
   "cell_type": "code",
   "execution_count": 26,
   "id": "a6dcffb6",
   "metadata": {},
   "outputs": [
    {
     "name": "stdout",
     "output_type": "stream",
     "text": [
      "0\n"
     ]
    }
   ],
   "source": [
    "# heights = [2, 7, 8, 3, 7, 6]\n",
    "heights = [1]\n",
    "\n",
    "def largest_container(arr:list):\n",
    "    l, r, max_value = 0, len(arr)-1, 0\n",
    "    while l < r:\n",
    "        min_cont = arr[l] if arr[l] < arr[r] else arr[r]\n",
    "        diff = r-l\n",
    "        area = min_cont * diff\n",
    "        max_value = max(max_value, area)\n",
    "        if arr[l] < arr[r]:\n",
    "            l += 1\n",
    "        else:\n",
    "            r -= 1\n",
    "    return max_value\n",
    "print(largest_container(heights))"
   ]
  },
  {
   "cell_type": "code",
   "execution_count": null,
   "id": "c2857dec",
   "metadata": {},
   "outputs": [],
   "source": []
  }
 ],
 "metadata": {
  "kernelspec": {
   "display_name": ".venv",
   "language": "python",
   "name": "python3"
  },
  "language_info": {
   "codemirror_mode": {
    "name": "ipython",
    "version": 3
   },
   "file_extension": ".py",
   "mimetype": "text/x-python",
   "name": "python",
   "nbconvert_exporter": "python",
   "pygments_lexer": "ipython3",
   "version": "3.12.3"
  }
 },
 "nbformat": 4,
 "nbformat_minor": 5
}
