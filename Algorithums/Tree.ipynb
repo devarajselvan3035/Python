{
 "cells": [
  {
   "cell_type": "markdown",
   "id": "963711b0-7274-4f99-af57-a6ae6266cd3a",
   "metadata": {},
   "source": [
    "## Create Binary Tree with insert method from scratch"
   ]
  },
  {
   "cell_type": "code",
   "execution_count": 3,
   "id": "8acf27b5-1cbb-48ed-8167-4e9deb61f11a",
   "metadata": {},
   "outputs": [],
   "source": [
    "class Node:\n",
    "    def __init__(self, key) -> None:\n",
    "        self.key = key\n",
    "        self.left = None\n",
    "        self.right = None\n",
    "\n",
    "class BinaryTree:\n",
    "    def __init__(self) -> None:\n",
    "        self.root = None\n",
    "\n",
    "    def insert(self, key) -> None:\n",
    "        newNode = Node(key)\n",
    "        if self.root is None:\n",
    "            self.root = newNode\n",
    "        else:\n",
    "            queue = [self.root]\n",
    "            while True:\n",
    "                temp = queue[0]\n",
    "                queue = queue[1:]\n",
    "                if temp.left is None:\n",
    "                    temp.left = newNode \n",
    "                    break\n",
    "                else:\n",
    "                    queue.append(temp.left)\n",
    "\n",
    "                if temp.right is None:\n",
    "                    temp.right = newNode\n",
    "                    break\n",
    "                else:\n",
    "                    queue.append(temp.right)\n",
    "\n",
    "    def _in_oreder_traversal(self, node) -> None:\n",
    "        if node:\n",
    "            self._in_oreder_traversal(node.left)\n",
    "            print(node.key, end=\" \")\n",
    "            self._in_oreder_traversal(node.right)"
   ]
  },
  {
   "cell_type": "code",
   "execution_count": 4,
   "id": "66c452f7-c8dd-43dd-a52e-c1730914a151",
   "metadata": {},
   "outputs": [
    {
     "name": "stdout",
     "output_type": "stream",
     "text": [
      "1 2 3 4 6 "
     ]
    }
   ],
   "source": [
    "bt = BinaryTree()\n",
    "bt.insert(4)\n",
    "bt.insert(2)\n",
    "bt.insert(6)\n",
    "bt.insert(1)\n",
    "bt.insert(3)\n",
    "bt._in_oreder_traversal(bt.root)"
   ]
  },
  {
   "cell_type": "markdown",
   "id": "11132201-7de5-49e4-881a-c302a9714ef6",
   "metadata": {},
   "source": [
    "## Invert Binary Tree"
   ]
  },
  {
   "cell_type": "markdown",
   "id": "f8758bd9-eaa3-41a7-a2c6-3991de7b2ece",
   "metadata": {},
   "source": [
    "### Using Recursive funciton or Depth first search (DFS)"
   ]
  },
  {
   "cell_type": "code",
   "execution_count": 8,
   "id": "449b3286-d5e3-439b-9107-195c20779fad",
   "metadata": {},
   "outputs": [
    {
     "name": "stdout",
     "output_type": "stream",
     "text": [
      "Before invert the binary tree\n",
      "\n",
      "1 2 3 4 6 After invert the binary treee\n",
      "\n",
      "6 4 3 2 1 "
     ]
    }
   ],
   "source": [
    "### Create Binary tree\n",
    "bt = BinaryTree()\n",
    "bt.insert(4)\n",
    "bt.insert(2)\n",
    "bt.insert(6)\n",
    "bt.insert(1)\n",
    "bt.insert(3)\n",
    "\n",
    "print(\"Before invert the binary tree\")\n",
    "print()\n",
    "bt._in_oreder_traversal(bt.root)\n",
    "\n",
    "def invertBinaryTree(node:Node):\n",
    "    if not node:\n",
    "        return None\n",
    "    node.left, node.right = node.right, node.left\n",
    "    invertBinaryTree(node.left)\n",
    "    invertBinaryTree(node.right)\n",
    "    return node\n",
    "\n",
    "print(\"After invert the binary treee\")\n",
    "print()\n",
    "root_node = invertBinaryTree(bt.root)\n",
    "bt._in_oreder_traversal(root_node)"
   ]
  },
  {
   "cell_type": "markdown",
   "id": "46924c42-7cd4-4254-b8ea-467f26756f20",
   "metadata": {},
   "source": [
    "### using stack"
   ]
  },
  {
   "cell_type": "code",
   "execution_count": 12,
   "id": "68431460-b6a3-4bba-9f1b-349c530ef50d",
   "metadata": {},
   "outputs": [
    {
     "name": "stdout",
     "output_type": "stream",
     "text": [
      "6 4 3 2 1 "
     ]
    }
   ],
   "source": [
    "def invertTreeQueue(node:Node) -> Node:\n",
    "    queue = [node]\n",
    "    while queue:\n",
    "        curdNode = queue[0]\n",
    "        queue = queue[1:]\n",
    "\n",
    "        curdNode.left, curdNode.right = curdNode.right, curdNode.left\n",
    "\n",
    "        if curdNode.left is not None:\n",
    "            queue.append(curdNode.left)\n",
    "\n",
    "        if curdNode.right is not None:\n",
    "            queue.append(curdNode.right)\n",
    "    return node\n",
    "\n",
    "root_node_2 = invertTreeQueue(bt.root)\n",
    "bt._in_oreder_traversal(root_node_2)"
   ]
  },
  {
   "cell_type": "markdown",
   "id": "444b4974-25e4-4432-872d-5fab9f6ff21c",
   "metadata": {},
   "source": [
    "## Create Binary Scratch Tree (BST) from scratch"
   ]
  },
  {
   "cell_type": "code",
   "execution_count": 1,
   "id": "43d97230-d073-4ed0-aa3a-bbf00137612e",
   "metadata": {},
   "outputs": [
    {
     "name": "stdout",
     "output_type": "stream",
     "text": [
      "1\n",
      "2\n",
      "3\n",
      "5\n",
      "7\n"
     ]
    }
   ],
   "source": [
    "class TreeNode:\n",
    "    def __init__(self, key):\n",
    "        self.key = key\n",
    "        self.left = None\n",
    "        self.right = None\n",
    "        self.parent = None\n",
    "\n",
    "class BinarySearchTree:\n",
    "    def __init__(self):\n",
    "        self.root = None\n",
    "\n",
    "    def insert(self, key, node=None) -> None:\n",
    "        newNode = TreeNode(key)\n",
    "        if self.root is None:\n",
    "            self.root = newNode\n",
    "        else:\n",
    "            curdNode = self.root if node is None else node\n",
    "            if key < curdNode.key:\n",
    "                if curdNode.left is None:\n",
    "                    curdNode.left = newNode\n",
    "                else:\n",
    "                    self.insert(key, curdNode.left)\n",
    "            elif key > curdNode.key:\n",
    "                if curdNode.right is None:\n",
    "                    curdNode.right = newNode\n",
    "                else:\n",
    "                    self.insert(key, curdNode.right)\n",
    "\n",
    "    def _in_order_traversal(self, node) -> None:\n",
    "        if node:\n",
    "            self._in_order_traversal(node.left)\n",
    "            print(node.key)\n",
    "            self._in_order_traversal(node.right)\n",
    "\n",
    "if __name__ == \"__main__\":\n",
    "    bst = BinarySearchTree()\n",
    "    bst.insert(5)\n",
    "    bst.insert(2)\n",
    "    bst.insert(7)\n",
    "    bst.insert(1)\n",
    "    # bst.insert(4)\n",
    "    # bst.insert(9)\n",
    "    bst.insert(3)\n",
    "    # bst.insert(8)\n",
    "    bst._in_order_traversal(bst.root)\n"
   ]
  },
  {
   "cell_type": "code",
   "execution_count": 2,
   "id": "6c5999d0-2269-459e-a42e-dcfc152efa52",
   "metadata": {},
   "outputs": [
    {
     "data": {
      "text/plain": [
       "3"
      ]
     },
     "execution_count": 2,
     "metadata": {},
     "output_type": "execute_result"
    }
   ],
   "source": [
    "def treeBalance(node):\n",
    "    if node is None:\n",
    "        return 0\n",
    "\n",
    "    left = treeBalance(node.left)\n",
    "    right = treeBalance(node.right)\n",
    "\n",
    "    if left == -1 or right == -1:\n",
    "        return -1\n",
    "\n",
    "    if abs(left - right) > 1:\n",
    "        return -1\n",
    "\n",
    "    return 1 + max(left, right)\n",
    "treeBalance(bst.root)"
   ]
  },
  {
   "cell_type": "code",
   "execution_count": null,
   "id": "b7be6574-7cdb-4e16-bea2-249455f6024f",
   "metadata": {},
   "outputs": [],
   "source": []
  }
 ],
 "metadata": {
  "kernelspec": {
   "display_name": "Python 3 (ipykernel)",
   "language": "python",
   "name": "python3"
  },
  "language_info": {
   "codemirror_mode": {
    "name": "ipython",
    "version": 3
   },
   "file_extension": ".py",
   "mimetype": "text/x-python",
   "name": "python",
   "nbconvert_exporter": "python",
   "pygments_lexer": "ipython3",
   "version": "3.12.3"
  }
 },
 "nbformat": 4,
 "nbformat_minor": 5
}
