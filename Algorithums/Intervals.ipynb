{
 "cells": [
  {
   "cell_type": "markdown",
   "id": "f01b1881-e72e-49e4-859d-25174c7f552f",
   "metadata": {},
   "source": [
    "## Merge Overlapping Intervals\n",
    "Merge an array of intervals so there are no overlapping intervals, and return the resultant merged intervals.\\\n",
    "**Example**:\\\n",
    "Inputs: intervals = [[3,4], [7,8]], [2,5], [6,7], [1,4]]\\\n",
    "Outputs: [[1,5], [6,8]]\n",
    "```\n",
    "    ___     __\n",
    "  _______ _____\n",
    "_______   _____\n",
    "_________\n",
    "1 2 3 4 5 6 7 8\n",
    "_________ _____\n",
    "```"
   ]
  },
  {
   "cell_type": "code",
   "execution_count": 11,
   "id": "6fd5891f-d865-4d0a-a0f7-2c12f4cfa7a2",
   "metadata": {},
   "outputs": [
    {
     "name": "stdout",
     "output_type": "stream",
     "text": [
      "[[1, 5], [6, 8]]\n"
     ]
    }
   ],
   "source": [
    "intervals = [[3,4], [7,8], [2,5], [6,7], [1,4]]\n",
    "intervals = sorted(intervals)\n",
    "op = [intervals[0]]\n",
    "for pair in intervals[1:]:\n",
    "    interval = op[-1]\n",
    "    if interval[1] < pair[0]:\n",
    "        op.append(pair)\n",
    "    else:\n",
    "        op[-1] = [interval[0], max(interval[1], pair[1])]\n",
    "print(op)"
   ]
  },
  {
   "cell_type": "markdown",
   "id": "0841ac09-ac72-4649-b3a2-7d9889c27103",
   "metadata": {},
   "source": [
    "## Identify all Interval overlaps\n",
    "Return an array of all overlaps between two arrays of intervals; intervals1 and intervals2. Each individual interval array is sorted by start value, and contains no overlapping intervals within itself.\\\n",
    "**Examples**\\\n",
    "Inputs: interval1 = [[1,4], [5,6], [9,10]]\\\n",
    "        interval2 = [[2,7], [8,9]]\\\n",
    "Outputs: [[2,4], [5,6], [9,9]]\n",
    "        "
   ]
  },
  {
   "cell_type": "code",
   "execution_count": null,
   "id": "c488962e-af8d-4a8e-be07-984a705d34ad",
   "metadata": {},
   "outputs": [],
   "source": []
  }
 ],
 "metadata": {
  "kernelspec": {
   "display_name": "Python 3 (ipykernel)",
   "language": "python",
   "name": "python3"
  },
  "language_info": {
   "codemirror_mode": {
    "name": "ipython",
    "version": 3
   },
   "file_extension": ".py",
   "mimetype": "text/x-python",
   "name": "python",
   "nbconvert_exporter": "python",
   "pygments_lexer": "ipython3",
   "version": "3.12.3"
  }
 },
 "nbformat": 4,
 "nbformat_minor": 5
}
